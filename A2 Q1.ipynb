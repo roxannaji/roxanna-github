{
 "cells": [
  {
   "cell_type": "code",
   "execution_count": 42,
   "id": "ae6f0091",
   "metadata": {},
   "outputs": [],
   "source": [
    "import numpy as np\n",
    "import math"
   ]
  },
  {
   "cell_type": "code",
   "execution_count": 43,
   "id": "ea8623fb",
   "metadata": {},
   "outputs": [],
   "source": [
    "S0 = 100       #current stock price\n",
    "K = 100        #strike\n",
    "T = 0.75       #expiry time\n",
    "r = 0.03       #interest rate\n",
    "sigma = 0.35   #volatility\n",
    "opttype = 0    #0 for a call, otherwise a put\n",
    "Nsteps = 500   #number of timesteps"
   ]
  },
  {
   "cell_type": "code",
   "execution_count": 44,
   "id": "e4ba89f6",
   "metadata": {},
   "outputs": [],
   "source": [
    "#payoff at t=T for European call/put option\n",
    " \n",
    "def European(S0,K,T,r,sigma,opttype,Nsteps):\n",
    "    delt = T/Nsteps\n",
    "    \n",
    "    #Tree parameters\n",
    "    u = np.exp(sigma * np.sqrt(delt))\n",
    "    d = 1./u\n",
    "    a = np.exp( r*delt)\n",
    "    p = (a-d)/(u-d)\n",
    "    \n",
    "    #payoff price\n",
    "    W = S0 * d**(np.arange(Nsteps,-1,-1)) * u**(np.arange(Nsteps+1))\n",
    "    if (opttype == 0):  #call\n",
    "        W = np.maximum( W - K, 0);\n",
    "    else: #put\n",
    "        W = np.maximum( K - W, 0);\n",
    "    for i in np.arange(Nsteps, 0, -1):\n",
    "        W = np.exp(-r*delt)*(p*W[1:i+1] + (1-p)*W[0:i])\n",
    "    return(W[0])\n",
    "        "
   ]
  },
  {
   "cell_type": "code",
   "execution_count": 45,
   "id": "15dce71b",
   "metadata": {},
   "outputs": [],
   "source": [
    "#payoff at t=T for American call option\n",
    " \n",
    "def cAmerican(S0,K,T,r,sigma,Nsteps):\n",
    "    delt = T/Nsteps\n",
    "    \n",
    "    #Tree parameters\n",
    "    u = np.exp(sigma * np.sqrt(delt))\n",
    "    d = 1./u\n",
    "    a = np.exp( r*delt)\n",
    "    p = (a-d)/(u-d)\n",
    "    \n",
    "    #payoff price\n",
    "    W = S0 * d**(np.arange(Nsteps,-1,-1)) * u**(np.arange(Nsteps+1))\n",
    "    W = np.maximum( W - K, 0) #call\n",
    "    current = W\n",
    "    for i in np.arange(Nsteps, 0, -1):\n",
    "        W = np.exp(-r*delt)*(p*W[1:i+1] + (1-p)*W[0:i])\n",
    "        current = current[0:i]*u\n",
    "        W = np.maximum(W, np.maximum( current - K, 0))\n",
    "    return(W[0])"
   ]
  },
  {
   "cell_type": "code",
   "execution_count": 46,
   "id": "c5bf42ac",
   "metadata": {},
   "outputs": [],
   "source": [
    "#payoff at t=T for American put option\n",
    " \n",
    "def pAmerican(S0,K,T,r,sigma,Nsteps):\n",
    "    delt = T/Nsteps\n",
    "    \n",
    "    #Tree parameters\n",
    "    u = np.exp(sigma * np.sqrt(delt))\n",
    "    d = 1./u\n",
    "    a = np.exp( r*delt)\n",
    "    p = (a-d)/(u-d)\n",
    "    \n",
    "    #payoff price\n",
    "    W = S0 * d**(np.arange(Nsteps,-1,-1)) * u**(np.arange(Nsteps+1))\n",
    "    current = W\n",
    "    W = np.maximum( K - W, 0) #put\n",
    "\n",
    "    for i in np.arange(Nsteps, 0, -1):\n",
    "        W = np.exp(-r*delt)*(p*W[1:i+1] + (1-p)*W[0:i])\n",
    "        current = current[0:i]*u\n",
    "        W = np.maximum(W, np.maximum( K - current, 0))\n",
    "    return(W[0])"
   ]
  },
  {
   "cell_type": "code",
   "execution_count": 47,
   "id": "e33e46c4",
   "metadata": {},
   "outputs": [
    {
     "data": {
      "text/plain": [
       "11.026708354516346"
      ]
     },
     "execution_count": 47,
     "metadata": {},
     "output_type": "execute_result"
    }
   ],
   "source": [
    "pAmerican(100,100,0.75,0.03,0.35,500)"
   ]
  },
  {
   "cell_type": "code",
   "execution_count": 48,
   "id": "398b2cc7",
   "metadata": {},
   "outputs": [
    {
     "data": {
      "text/plain": [
       "13.051177442418886"
      ]
     },
     "execution_count": 48,
     "metadata": {},
     "output_type": "execute_result"
    }
   ],
   "source": [
    "European(100,100,0.75,0.03,0.35,0,500)"
   ]
  },
  {
   "cell_type": "code",
   "execution_count": 49,
   "id": "e9f0a4a8",
   "metadata": {},
   "outputs": [
    {
     "data": {
      "text/plain": [
       "10.82630116174909"
      ]
     },
     "execution_count": 49,
     "metadata": {},
     "output_type": "execute_result"
    }
   ],
   "source": [
    "European(100,100,0.75,0.03,0.35,1,500)"
   ]
  },
  {
   "cell_type": "code",
   "execution_count": 50,
   "id": "309e59d6",
   "metadata": {},
   "outputs": [
    {
     "data": {
      "text/plain": [
       "13.051177442418886"
      ]
     },
     "execution_count": 50,
     "metadata": {},
     "output_type": "execute_result"
    }
   ],
   "source": [
    "cAmerican(100,100,0.75,0.03,0.35,500)"
   ]
  },
  {
   "cell_type": "code",
   "execution_count": 51,
   "id": "87dcff28",
   "metadata": {},
   "outputs": [
    {
     "data": {
      "text/plain": [
       "11.026708354516346"
      ]
     },
     "execution_count": 51,
     "metadata": {},
     "output_type": "execute_result"
    }
   ],
   "source": [
    "pAmerican(100,100,0.75,0.03,0.35,500)"
   ]
  },
  {
   "cell_type": "code",
   "execution_count": 52,
   "id": "a6a4b8fc",
   "metadata": {},
   "outputs": [],
   "source": [
    "from scipy.stats import norm\n",
    "import numpy as np"
   ]
  },
  {
   "cell_type": "code",
   "execution_count": 53,
   "id": "7303fe32",
   "metadata": {},
   "outputs": [],
   "source": [
    "#adapted from Octave's financial toolkit\n",
    "def blsprice(Price, Strike, Rate, Time, Volatility):\n",
    "    sigma_sqrtT = Volatility * np.sqrt (Time)\n",
    "\n",
    "    d1 = 1 / sigma_sqrtT * (np.log(Price / Strike) + (Rate + Volatility**2 / 2) * Time)\n",
    "    d2 = d1 - sigma_sqrtT\n",
    "\n",
    "    phi1 = norm.cdf(d1)\n",
    "    phi2 = norm.cdf(d2)\n",
    "    disc = np.exp (-Rate * Time)\n",
    "    F    = Price * np.exp ((Rate) * Time)\n",
    "\n",
    "    Call = disc * (F * phi1 - Strike * phi2)\n",
    "    Put  = disc * (Strike * (1 - phi2) + F * (phi1 - 1))\n",
    "    return Call, Put"
   ]
  },
  {
   "cell_type": "code",
   "execution_count": 54,
   "id": "5719b3be",
   "metadata": {},
   "outputs": [],
   "source": [
    "#adapted from Octave's financial toolkit\n",
    "def blsdelta(Price, Strike, Rate, Time, Volatility):\n",
    "    d1 = 1 / (Volatility * np.sqrt(Time)) * (np.log (Price / Strike) + (Rate + Volatility**2 / 2) * Time)\n",
    "\n",
    "    phi = norm.cdf(d1)\n",
    "\n",
    "    CallDelta = phi\n",
    "    PutDelta = phi - 1\n",
    "    return CallDelta, PutDelta"
   ]
  },
  {
   "cell_type": "code",
   "execution_count": 55,
   "id": "39419ce7",
   "metadata": {},
   "outputs": [
    {
     "data": {
      "text/plain": [
       "(13.057147530853024, 10.832271250186647)"
      ]
     },
     "execution_count": 55,
     "metadata": {},
     "output_type": "execute_result"
    }
   ],
   "source": [
    "blsprice (100, 100, 0.03, 0.75, 0.35)"
   ]
  },
  {
   "cell_type": "code",
   "execution_count": 56,
   "id": "633b1a1c",
   "metadata": {},
   "outputs": [
    {
     "data": {
      "text/plain": [
       "(0.5893157536060705, -0.41068424639392953)"
      ]
     },
     "execution_count": 56,
     "metadata": {},
     "output_type": "execute_result"
    }
   ],
   "source": [
    "blsdelta(100, 100, 0.03, 0.75, 0.35)"
   ]
  },
  {
   "cell_type": "code",
   "execution_count": 57,
   "id": "18b3085f",
   "metadata": {
    "scrolled": true
   },
   "outputs": [
    {
     "name": "stdout",
     "output_type": "stream",
     "text": [
      "  Delta_t    Value       Change    Ratio    blsprice\n",
      "---------  -------  -----------  -------  ----------\n",
      "0.0015     13.0512\n",
      "0.00075    13.0542  0.00298467\n",
      "0.000375   13.0557  0.00149262   1.99962\n",
      "0.0001875  13.0564  0.000746378  1.99981\n",
      "9.375e-05  13.0568  0.000373207  1.99991     13.0571\n"
     ]
    }
   ],
   "source": [
    "#table for European call options\n",
    "\n",
    "import tabulate\n",
    "delt1 = T/500\n",
    "delt2 = T/1000\n",
    "delt3 = T/2000\n",
    "delt4 = T/4000\n",
    "delt5 = T/8000\n",
    "\n",
    "value1 = European(100,100,0.75,0.03,0.35,0,500)\n",
    "value2 = European(100,100,0.75,0.03,0.35,0,1000)\n",
    "value3 = European(100,100,0.75,0.03,0.35,0,2000)\n",
    "value4 = European(100,100,0.75,0.03,0.35,0,4000)\n",
    "value5 = European(100,100,0.75,0.03,0.35,0,8000)\n",
    "\n",
    "change2_1 = value2 - value1\n",
    "change3_2 = value3 - value2\n",
    "change4_3 = value4 - value3\n",
    "change5_4 = value5 - value4\n",
    "\n",
    "ratio3 = change2_1 / change3_2\n",
    "ratio4 = change3_2 / change4_3\n",
    "ratio5 = change4_3 / change5_4\n",
    "\n",
    "exact_v = blsprice (100, 100, 0.03, 0.75, 0.35)[0]\n",
    "\n",
    "ctable = [[delt1,value1],\n",
    "         [delt2,value2,change2_1],\n",
    "         [delt3,value3,change3_2,ratio3],\n",
    "         [delt4,value4,change4_3,ratio4],\n",
    "         [delt5,value5,change5_4,ratio5,exact_v]]\n",
    "\n",
    "col = [\"Delta_t\", \"Value\", \"Change\", \"Ratio\", \"blsprice\"]\n",
    "print(tabulate.tabulate(ctable, headers=col))"
   ]
  },
  {
   "cell_type": "code",
   "execution_count": 58,
   "id": "e4bf0b58",
   "metadata": {},
   "outputs": [
    {
     "name": "stdout",
     "output_type": "stream",
     "text": [
      "  Delta_t    Value       Change    Ratio    blsprice\n",
      "---------  -------  -----------  -------  ----------\n",
      "0.0015     10.8263\n",
      "0.00075    10.8293  0.00298467\n",
      "0.000375   10.8308  0.00149262   1.99962\n",
      "0.0001875  10.8315  0.000746378  1.99981\n",
      "9.375e-05  10.8319  0.000373207  1.99991     10.8323\n"
     ]
    }
   ],
   "source": [
    "#table for European put options\n",
    "\n",
    "import tabulate\n",
    "pdelt1 = T/500\n",
    "pdelt2 = T/1000\n",
    "pdelt3 = T/2000\n",
    "pdelt4 = T/4000\n",
    "pdelt5 = T/8000\n",
    "\n",
    "pvalue1 = European(100,100,0.75,0.03,0.35,1,500)\n",
    "pvalue2 = European(100,100,0.75,0.03,0.35,1,1000)\n",
    "pvalue3 = European(100,100,0.75,0.03,0.35,1,2000)\n",
    "pvalue4 = European(100,100,0.75,0.03,0.35,1,4000)\n",
    "pvalue5 = European(100,100,0.75,0.03,0.35,1,8000)\n",
    "\n",
    "pchange2_1 = pvalue2 - pvalue1\n",
    "pchange3_2 = pvalue3 - pvalue2\n",
    "pchange4_3 = pvalue4 - pvalue3\n",
    "pchange5_4 = pvalue5 - pvalue4\n",
    "\n",
    "pratio3 = pchange2_1 / pchange3_2\n",
    "pratio4 = pchange3_2 / pchange4_3\n",
    "pratio5 = pchange4_3 / pchange5_4\n",
    "\n",
    "pexact_v = blsprice (100, 100, 0.03, 0.75, 0.35)[1]\n",
    "\n",
    "ptable = [[pdelt1,pvalue1],\n",
    "         [pdelt2,pvalue2,pchange2_1],\n",
    "         [pdelt3,pvalue3,pchange3_2,pratio3],\n",
    "         [pdelt4,pvalue4,pchange4_3,pratio4],\n",
    "         [pdelt5,pvalue5,pchange5_4,pratio5,pexact_v]]\n",
    "\n",
    "pcol = [\"Delta_t\", \"Value\", \"Change\", \"Ratio\", \"blsprice\"]\n",
    "print(tabulate.tabulate(ptable, headers=pcol))"
   ]
  },
  {
   "cell_type": "code",
   "execution_count": 59,
   "id": "b9365599",
   "metadata": {},
   "outputs": [
    {
     "name": "stdout",
     "output_type": "stream",
     "text": [
      "  Delta_t    Value       Change    Ratio\n",
      "---------  -------  -----------  -------\n",
      "0.0015     11.0267\n",
      "0.00075    11.0286  0.00188109\n",
      "0.000375   11.0295  0.000941684  1.99758\n",
      "0.0001875  11.03    0.000468239  2.01112\n",
      "9.375e-05  11.0302  0.000233725  2.00337\n"
     ]
    }
   ],
   "source": [
    "#table for American put options\n",
    "\n",
    "import tabulate\n",
    "pAdelt1 = T/500\n",
    "pAdelt2 = T/1000\n",
    "pAdelt3 = T/2000\n",
    "pAdelt4 = T/4000\n",
    "pAdelt5 = T/8000\n",
    "\n",
    "pAvalue1 = pAmerican(100,100,0.75,0.03,0.35,500)\n",
    "pAvalue2 = pAmerican(100,100,0.75,0.03,0.35,1000)\n",
    "pAvalue3 = pAmerican(100,100,0.75,0.03,0.35,2000)\n",
    "pAvalue4 = pAmerican(100,100,0.75,0.03,0.35,4000)\n",
    "pAvalue5 = pAmerican(100,100,0.75,0.03,0.35,8000)\n",
    "\n",
    "pAchange2_1 = pAvalue2 - pAvalue1\n",
    "pAchange3_2 = pAvalue3 - pAvalue2\n",
    "pAchange4_3 = pAvalue4 - pAvalue3\n",
    "pAchange5_4 = pAvalue5 - pAvalue4\n",
    "\n",
    "pAratio3 = pAchange2_1 / pAchange3_2\n",
    "pAratio4 = pAchange3_2 / pAchange4_3\n",
    "pAratio5 = pAchange4_3 / pAchange5_4\n",
    "\n",
    "pAtable = [[pAdelt1,pAvalue1],\n",
    "          [pAdelt2,pAvalue2,pAchange2_1],\n",
    "          [pAdelt3,pAvalue3,pAchange3_2,pAratio3],\n",
    "          [pAdelt4,pAvalue4,pAchange4_3,pAratio4],\n",
    "          [pAdelt5,pAvalue5,pAchange5_4,pAratio5]]\n",
    "\n",
    "pAcol = [\"Delta_t\", \"Value\", \"Change\", \"Ratio\"]\n",
    "print(tabulate.tabulate(pAtable, headers=pAcol))"
   ]
  },
  {
   "cell_type": "markdown",
   "id": "b3f85a78",
   "metadata": {},
   "source": [
    "The order of accuracy from the table is 1. This agrees with the theory above. The calculation process is provided in the next page. "
   ]
  }
 ],
 "metadata": {
  "kernelspec": {
   "display_name": "Python 3 (ipykernel)",
   "language": "python",
   "name": "python3"
  },
  "language_info": {
   "codemirror_mode": {
    "name": "ipython",
    "version": 3
   },
   "file_extension": ".py",
   "mimetype": "text/x-python",
   "name": "python",
   "nbconvert_exporter": "python",
   "pygments_lexer": "ipython3",
   "version": "3.9.12"
  }
 },
 "nbformat": 4,
 "nbformat_minor": 5
}
