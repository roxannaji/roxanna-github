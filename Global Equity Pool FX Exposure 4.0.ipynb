{
 "cells": [
  {
   "cell_type": "code",
   "execution_count": 1,
   "id": "a4a116a0",
   "metadata": {},
   "outputs": [],
   "source": [
    "from zipfile import ZipFile\n",
    "import os\n",
    "import pandas as pd\n",
    "from datetime import datetime, date\n",
    "import glob\n",
    "import win32com.client as win32\n",
    "import os\n",
    "import shutil\n",
    "from openpyxl import load_workbook\n",
    "from pywintypes import com_error\n",
    "import numpy as np\n",
    "import time\n",
    "import base64\n",
    "import pyodbc"
   ]
  },
  {
   "cell_type": "code",
   "execution_count": 2,
   "id": "f5efd330",
   "metadata": {},
   "outputs": [],
   "source": [
    "# !pip install xlsxwriter"
   ]
  },
  {
   "cell_type": "code",
   "execution_count": 3,
   "id": "3b353977",
   "metadata": {},
   "outputs": [],
   "source": [
    "#adjust the number of days to offset the report date and the previous report date\n",
    "k = 1\n",
    "l = 2"
   ]
  },
  {
   "cell_type": "code",
   "execution_count": 4,
   "id": "8823c6dd",
   "metadata": {},
   "outputs": [
    {
     "name": "stdout",
     "output_type": "stream",
     "text": [
      "Date's report date is: 2024-12-04 00:00:00\n",
      "Previous report date is: 2024-12-03 00:00:00\n"
     ]
    }
   ],
   "source": [
    "################# Step 1. get the correct date ################################\n",
    "# Create an offset of 1 Business days\n",
    "offset_today = pd.tseries.offsets.BusinessDay(n=k)\n",
    "offset_previous_day = pd.tseries.offsets.BusinessDay(n=l)\n",
    "\n",
    "# initializing dates\n",
    "today_date = date.today() - offset_today\n",
    "prior_date = date.today() - offset_previous_day\n",
    "\n",
    "# printing original date\n",
    "print(\"Date's report date is: \" + str(today_date))\n",
    "print(\"Previous report date is: \" + str(prior_date))\n",
    "\n",
    "# Creating Timestamp\n",
    "ts = pd.Timestamp(str(today_date))"
   ]
  },
  {
   "cell_type": "code",
   "execution_count": 5,
   "id": "8ca7b8ae",
   "metadata": {},
   "outputs": [],
   "source": [
    "reportdate = today_date.strftime('%Y%m%d')\n",
    "prior_reportdate = prior_date.strftime('%Y%m%d')"
   ]
  },
  {
   "cell_type": "code",
   "execution_count": 6,
   "id": "5472f5aa",
   "metadata": {},
   "outputs": [],
   "source": [
    "savePath = \"C:\\\\O365Sync\\\\IMCO\\\\RISK Analytics - Documents\\\\FX Analytics\\\\Active FX Performance\\\\\"\n",
    "os.chdir(savePath)"
   ]
  },
  {
   "cell_type": "code",
   "execution_count": 7,
   "id": "2967b79e",
   "metadata": {},
   "outputs": [],
   "source": [
    "file_list = ['Aggregated Currency Exposure_IMCO GEP_'+reportdate+'_CM&TP.xlsx',\n",
    "             #'Aggregated Currency Exposure_IMCO GEP_'+reportdate+'_Record.xlsx',\n",
    "             'Aggregated Currency Exposure_DoD_'+reportdate+'.xlsx']"
   ]
  },
  {
   "cell_type": "code",
   "execution_count": 8,
   "id": "09835154",
   "metadata": {},
   "outputs": [],
   "source": [
    "prior_file_list = ['Aggregated Currency Exposure_IMCO GEP_'+prior_reportdate+'_CM&TP.xlsx',\n",
    "             #'Aggregated Currency Exposure_IMCO GEP_'+prior_reportdate+'_Record.xlsx',\n",
    "             'Aggregated Currency Exposure_DoD_'+prior_reportdate+'.xlsx']"
   ]
  },
  {
   "cell_type": "code",
   "execution_count": 9,
   "id": "ce46b126",
   "metadata": {},
   "outputs": [
    {
     "name": "stdout",
     "output_type": "stream",
     "text": [
      "copied Aggregated Currency Exposure_IMCO GEP_20241204_CM&TP.xlsx\n",
      "copied Aggregated Currency Exposure_DoD_20241204.xlsx\n"
     ]
    }
   ],
   "source": [
    "for i in range(len(file_list)):\n",
    "\n",
    "    # construct full file path\n",
    "    destination = savePath + file_list[i]\n",
    "    source = savePath + prior_file_list[i]\n",
    "\n",
    "    shutil.copy(source, destination)\n",
    "    print('copied', file_list[i])"
   ]
  },
  {
   "cell_type": "code",
   "execution_count": 10,
   "id": "754a3642",
   "metadata": {},
   "outputs": [
    {
     "name": "stderr",
     "output_type": "stream",
     "text": [
      "C:\\Users\\JiRoxanna\\AppData\\Local\\Temp\\ipykernel_6592\\1958831923.py:10: UserWarning: pandas only supports SQLAlchemy connectable (engine/connection) or database string URI or sqlite3 DBAPI2 connection. Other DBAPI2 objects are not tested. Please consider using SQLAlchemy.\n",
      "  rates = pd.read_sql(\"select ctr_ccy, close_rate, effective_date from Master_DM..fx_rate where ctr_ccy in ('AUD','CHF','DKK','EUR','GBP','HKD','ILS','JPY','NOK','NZD','SEK','SGD','USD') and effective_date = '{}'\".format(date), conn)\n"
     ]
    }
   ],
   "source": [
    "reportdate2 = reportdate[0:4]+\"-\"+reportdate[4:6]+\"-\"+reportdate[6:8]\n",
    "\n",
    "def closeRate(date):\n",
    "    conn = pyodbc.connect('Driver={SQL Server};'\n",
    "                      'Server=172.16.50.4;'\n",
    "                      'Database=PA;'\n",
    "                      'Trusted_Connection=yes;')\n",
    "    cursor=conn.cursor()\n",
    "\n",
    "    rates = pd.read_sql(\"select ctr_ccy, close_rate, effective_date from Master_DM..fx_rate where ctr_ccy in ('AUD','CHF','DKK','EUR','GBP','HKD','ILS','JPY','NOK','NZD','SEK','SGD','USD') and effective_date = '{}'\".format(date), conn)   \n",
    "    cursor.commit()\n",
    "    cursor.close()\n",
    "    conn.close()\n",
    "    \n",
    "    return rates\n",
    "\n",
    "rates = closeRate(reportdate2)"
   ]
  },
  {
   "cell_type": "code",
   "execution_count": 11,
   "id": "200ae292",
   "metadata": {},
   "outputs": [
    {
     "data": {
      "text/html": [
       "<div>\n",
       "<style scoped>\n",
       "    .dataframe tbody tr th:only-of-type {\n",
       "        vertical-align: middle;\n",
       "    }\n",
       "\n",
       "    .dataframe tbody tr th {\n",
       "        vertical-align: top;\n",
       "    }\n",
       "\n",
       "    .dataframe thead th {\n",
       "        text-align: right;\n",
       "    }\n",
       "</style>\n",
       "<table border=\"1\" class=\"dataframe\">\n",
       "  <thead>\n",
       "    <tr style=\"text-align: right;\">\n",
       "      <th></th>\n",
       "      <th>ctr_ccy</th>\n",
       "      <th>close_rate</th>\n",
       "      <th>effective_date</th>\n",
       "    </tr>\n",
       "  </thead>\n",
       "  <tbody>\n",
       "    <tr>\n",
       "      <th>0</th>\n",
       "      <td>AUD</td>\n",
       "      <td>1.105090</td>\n",
       "      <td>2024-12-04</td>\n",
       "    </tr>\n",
       "    <tr>\n",
       "      <th>1</th>\n",
       "      <td>CHF</td>\n",
       "      <td>0.628239</td>\n",
       "      <td>2024-12-04</td>\n",
       "    </tr>\n",
       "    <tr>\n",
       "      <th>2</th>\n",
       "      <td>DKK</td>\n",
       "      <td>5.035406</td>\n",
       "      <td>2024-12-04</td>\n",
       "    </tr>\n",
       "    <tr>\n",
       "      <th>3</th>\n",
       "      <td>EUR</td>\n",
       "      <td>0.675207</td>\n",
       "      <td>2024-12-04</td>\n",
       "    </tr>\n",
       "    <tr>\n",
       "      <th>4</th>\n",
       "      <td>GBP</td>\n",
       "      <td>0.559436</td>\n",
       "      <td>2024-12-04</td>\n",
       "    </tr>\n",
       "    <tr>\n",
       "      <th>5</th>\n",
       "      <td>HKD</td>\n",
       "      <td>5.534677</td>\n",
       "      <td>2024-12-04</td>\n",
       "    </tr>\n",
       "    <tr>\n",
       "      <th>6</th>\n",
       "      <td>ILS</td>\n",
       "      <td>2.570367</td>\n",
       "      <td>2024-12-04</td>\n",
       "    </tr>\n",
       "    <tr>\n",
       "      <th>7</th>\n",
       "      <td>JPY</td>\n",
       "      <td>106.949629</td>\n",
       "      <td>2024-12-04</td>\n",
       "    </tr>\n",
       "    <tr>\n",
       "      <th>8</th>\n",
       "      <td>NOK</td>\n",
       "      <td>7.849988</td>\n",
       "      <td>2024-12-04</td>\n",
       "    </tr>\n",
       "    <tr>\n",
       "      <th>9</th>\n",
       "      <td>NZD</td>\n",
       "      <td>1.213138</td>\n",
       "      <td>2024-12-04</td>\n",
       "    </tr>\n",
       "    <tr>\n",
       "      <th>10</th>\n",
       "      <td>SEK</td>\n",
       "      <td>7.778323</td>\n",
       "      <td>2024-12-04</td>\n",
       "    </tr>\n",
       "    <tr>\n",
       "      <th>11</th>\n",
       "      <td>SGD</td>\n",
       "      <td>0.955316</td>\n",
       "      <td>2024-12-04</td>\n",
       "    </tr>\n",
       "    <tr>\n",
       "      <th>12</th>\n",
       "      <td>USD</td>\n",
       "      <td>0.710959</td>\n",
       "      <td>2024-12-04</td>\n",
       "    </tr>\n",
       "  </tbody>\n",
       "</table>\n",
       "</div>"
      ],
      "text/plain": [
       "   ctr_ccy  close_rate effective_date\n",
       "0      AUD    1.105090     2024-12-04\n",
       "1      CHF    0.628239     2024-12-04\n",
       "2      DKK    5.035406     2024-12-04\n",
       "3      EUR    0.675207     2024-12-04\n",
       "4      GBP    0.559436     2024-12-04\n",
       "5      HKD    5.534677     2024-12-04\n",
       "6      ILS    2.570367     2024-12-04\n",
       "7      JPY  106.949629     2024-12-04\n",
       "8      NOK    7.849988     2024-12-04\n",
       "9      NZD    1.213138     2024-12-04\n",
       "10     SEK    7.778323     2024-12-04\n",
       "11     SGD    0.955316     2024-12-04\n",
       "12     USD    0.710959     2024-12-04"
      ]
     },
     "execution_count": 11,
     "metadata": {},
     "output_type": "execute_result"
    }
   ],
   "source": [
    "rates"
   ]
  },
  {
   "cell_type": "code",
   "execution_count": 12,
   "id": "d194b450",
   "metadata": {},
   "outputs": [],
   "source": [
    "x = rates.to_excel('C:/O365Sync/IMCO/RISK Analytics - Documents/FX Analytics/rates.xlsx', sheet_name='sheet1', index=False)"
   ]
  },
  {
   "cell_type": "code",
   "execution_count": 13,
   "id": "49bd491c",
   "metadata": {},
   "outputs": [],
   "source": [
    "import openpyxl as xl;\n",
    "\n",
    "xl = win32.Dispatch(\"Excel.Application\")  # instantiate excel app\n",
    "xl.Application.visible = True\n",
    "xl.DisplayAlerts = True\n",
    "\n",
    "wb1 = xl.Workbooks.Open('C:\\\\O365Sync\\\\IMCO\\\\RISK Analytics - Documents\\\\FX Analytics\\\\rates.xlsx')\n",
    "wb2 = xl.Workbooks.Open('C:\\\\O365Sync\\\\IMCO\\\\RISK Analytics - Documents\\\\FX Analytics\\\\Record Outstanding Currency Exposures.xlsx')\n",
    "wb3 = xl.Workbooks.Open('C:\\\\O365Sync\\\\IMCO\\\\RISK Analytics - Documents\\\\FX Analytics\\\\Active FX Performance\\\\BBGAIM_FX_EOD_OpenPosition_'+ reportdate + '.csv')\n",
    "wb4 = xl.Workbooks.Open('C:\\\\O365Sync\\\\IMCO\\\\RISK Analytics - Documents\\\\FX Analytics\\\\IMCO Global EQ FX Exposure_Master_2021_v1.xlsm')\n",
    "wb5 = xl.Workbooks.Open('C:\\\\O365Sync\\\\IMCO\\\\RISK Analytics - Documents\\\\FX Analytics\\\\Active FX Performance\\\\IMCO Global EQ FX Exposure_'+ prior_reportdate + '.xlsx')\n",
    "\n",
    "\n",
    "ws1 = wb1.Worksheets('sheet1')\n",
    "ws2 = wb2.Worksheets('Sheet2')\n",
    "ws3 = wb3.Worksheets('BBGAIM_FX_EOD_OpenPosition_2024')\n",
    "ws4 = wb2.Worksheets('Outstanding Trades')\n",
    "ws5 = wb4.Worksheets('Exposure')\n",
    "ws6 = wb5.Worksheets('Exposure')\n",
    "\n",
    "ws1.Activate()\n",
    "ws1.Range('B2:B14').Copy()\n",
    "ws2.Activate()\n",
    "ws2.Range('E2:E14').Select()\n",
    "xl.Selection.PasteSpecial(Paste=12)\n",
    "\n",
    "ws3.Activate()\n",
    "ws3.Range('A:N').Copy()\n",
    "ws4.Activate()\n",
    "ws4.Range('A:N').Select()\n",
    "xl.Selection.PasteSpecial(Paste=12)\n",
    "\n",
    "ws2.Activate()\n",
    "ws2.Range('F2:F14').Copy()\n",
    "ws5.Activate()\n",
    "ws5.Range('B40:B52').Select()\n",
    "xl.Selection.PasteSpecial(Paste=12)\n",
    "\n",
    "ws6.Activate()\n",
    "ws6.Range('E5:E19').Copy()\n",
    "ws5.Activate()\n",
    "ws5.Range('J5:J19').Select()\n",
    "xl.Selection.PasteSpecial(Paste=12)\n",
    "\n",
    "ws5.Range('B1').Value = reportdate2\n"
   ]
  },
  {
   "cell_type": "code",
   "execution_count": 14,
   "id": "d22356ee",
   "metadata": {},
   "outputs": [],
   "source": [
    "xl.Application.Run('\\'' + \"IMCO Global EQ FX Exposure_Master_2021_v1.xlsm\"+ '\\'' +\"!ExposureRecon.GetDatafromSQL\")\n"
   ]
  },
  {
   "cell_type": "markdown",
   "id": "7a9693b1",
   "metadata": {},
   "source": [
    "# Stop to check if any redemption"
   ]
  },
  {
   "cell_type": "code",
   "execution_count": 15,
   "id": "26e3ab7b",
   "metadata": {},
   "outputs": [],
   "source": [
    "# saving the destination excel file\n",
    "wb1.Save()\n",
    "wb1.Close()\n",
    "wb2.Save()\n",
    "wb2.Close()\n",
    "wb3.Close()\n",
    "wb5.Close()\n",
    "wb4.Save()"
   ]
  },
  {
   "cell_type": "code",
   "execution_count": 16,
   "id": "0d349865",
   "metadata": {
    "scrolled": true
   },
   "outputs": [],
   "source": [
    "sharepoint_path = 'C:\\\\O365Sync\\\\IMCO\\\\RISK Analytics - Documents\\\\FX Analytics\\\\Active FX Performance\\\\'\n",
    "sharepoint_filename = 'IMCO Global EQ FX Exposure_'+ reportdate + '.xlsx'\n",
    "# save as xlsx\n",
    "wb4.SaveAs(Filename=os.path.join(sharepoint_path, sharepoint_filename), FileFormat=51) # xlOpenXMLWorkbook\t51\tOpen XML Workbook\t*.xlsx"
   ]
  },
  {
   "cell_type": "code",
   "execution_count": 17,
   "id": "c7384e6d",
   "metadata": {},
   "outputs": [],
   "source": [
    "# check if there is any subscription or redemption; if so, adjust accordingly. If not, move on to the next step"
   ]
  },
  {
   "cell_type": "code",
   "execution_count": 18,
   "id": "99c9ae76",
   "metadata": {},
   "outputs": [],
   "source": [
    "wb6 = xl.Workbooks.Open('C:\\\\O365Sync\\\\IMCO\\\\RISK Analytics - Documents\\\\FX Analytics\\\\Active FX Performance\\\\Aggregated Currency Exposure_IMCO GEP_'+reportdate+'_CM&TP.xlsx')\n",
    "#wb7 = xl.Workbooks.Open('C:\\\\O365Sync\\\\IMCO\\\\RISK Analytics - Documents\\\\FX Analytics\\\\Active FX Performance\\\\Aggregated Currency Exposure_IMCO GEP_'+reportdate+'_Record.xlsx')\n",
    "wb8 = xl.Workbooks.Open('C:\\\\O365Sync\\\\IMCO\\\\RISK Analytics - Documents\\\\FX Analytics\\\\Active FX Performance\\\\Aggregated Currency Exposure_DoD_'+reportdate+'.xlsx')"
   ]
  },
  {
   "cell_type": "code",
   "execution_count": 19,
   "id": "ca9fc85e",
   "metadata": {},
   "outputs": [],
   "source": [
    "ws7 = wb6.Worksheets('Sheet1')\n",
    "#ws8 = wb7.Worksheets('Sheet1')\n",
    "ws9 = wb8.Worksheets('Current')\n",
    "ws10 = wb8.Worksheets('Previous')"
   ]
  },
  {
   "cell_type": "code",
   "execution_count": 20,
   "id": "b8432fbb",
   "metadata": {},
   "outputs": [
    {
     "data": {
      "text/plain": [
       "True"
      ]
     },
     "execution_count": 20,
     "metadata": {},
     "output_type": "execute_result"
    }
   ],
   "source": [
    "ws9.Activate()\n",
    "ws9.Range('A2:D17').Copy()\n",
    "ws10.Activate()\n",
    "ws10.Range('A2:D17').Select()\n",
    "xl.Selection.PasteSpecial(Paste=12)\n",
    "\n",
    "#ws5.Activate()\n",
    "#ws5.Range('B5:E20').Copy()\n",
    "#ws8.Activate()\n",
    "#ws8.Range('A2:D17').Select()\n",
    "#xl.Selection.PasteSpecial(Paste=12)\n",
    "\n",
    "ws5.Activate()\n",
    "ws5.Range('B5:E20').Copy()\n",
    "ws9.Activate()\n",
    "ws9.Range('A2:D17').Select()\n",
    "xl.Selection.PasteSpecial(Paste=12)\n",
    "\n",
    "ws5.Activate()\n",
    "ws5.Range('B5:G20').Copy()\n",
    "ws7.Activate()\n",
    "ws7.Range('A2:F17').Select()\n",
    "xl.Selection.PasteSpecial(Paste=12)"
   ]
  },
  {
   "cell_type": "code",
   "execution_count": 21,
   "id": "02d113d6",
   "metadata": {},
   "outputs": [],
   "source": [
    "wb6.Save()\n",
    "wb6.Close()\n",
    "#wb7.Save()\n",
    "#wb7.Close()"
   ]
  },
  {
   "cell_type": "code",
   "execution_count": 22,
   "id": "780b98bb",
   "metadata": {},
   "outputs": [],
   "source": [
    "ws5.Activate()\n",
    "ws5.Range('B1').Select()\n",
    "wb4.Save()"
   ]
  },
  {
   "cell_type": "code",
   "execution_count": 23,
   "id": "3ebd69cb",
   "metadata": {},
   "outputs": [],
   "source": [
    "ws11 = wb8.Worksheets('Summary')\n",
    "ws12 = wb4.Worksheets('Exposure')\n",
    "ws13 = wb8.Worksheets('Diff Summary')\n",
    "ws14 = wb4.Worksheets('Data')\n",
    "\n",
    "ws12.Activate()\n",
    "ws12.Range('A5:J19').Copy()\n",
    "ws11.Activate()\n",
    "ws11.Range('A3:J17').Select()\n",
    "xl.Selection.PasteSpecial(Paste=12)\n",
    "\n",
    "ws13.Activate()\n",
    "ws13.Range('A2:D17').Copy()\n",
    "ws11.Activate()\n",
    "ws11.Range('A21:D36').Select()\n",
    "xl.Selection.PasteSpecial(Paste=12)\n",
    "\n",
    "ws12.Activate()\n",
    "ws12.Range('A24:D36').Copy()\n",
    "ws11.Activate()\n",
    "ws11.Range('A40:D52').Select()\n",
    "xl.Selection.PasteSpecial(Paste=12)\n",
    "\n",
    "ws9.Activate()\n",
    "ws9.Range('H2:J4').Copy()\n",
    "ws11.Activate()\n",
    "ws11.Range('B56:D58').Select()\n",
    "xl.Selection.PasteSpecial(Paste=12)\n",
    "\n",
    "ws14.Activate()\n",
    "ws14.Range('T3:W16').Copy()\n",
    "ws11.Activate()\n",
    "ws11.Range('A63:D76').Select()\n",
    "xl.Selection.PasteSpecial(Paste=12)\n",
    "\n",
    "wb8.Save()\n",
    "wb8.Close()"
   ]
  },
  {
   "cell_type": "code",
   "execution_count": 24,
   "id": "94437d59",
   "metadata": {},
   "outputs": [],
   "source": [
    "wb_dod = xl.Workbooks.Open('C:\\\\O365Sync\\\\IMCO\\\\RISK Analytics - Documents\\\\FX Analytics\\\\Active FX Performance\\\\Aggregated Currency Exposure_DoD_'+reportdate+'.xlsx')"
   ]
  },
  {
   "cell_type": "code",
   "execution_count": null,
   "id": "3db18876",
   "metadata": {},
   "outputs": [],
   "source": [
    "# Check if any diff of FX larger than 10MM - if so, continue"
   ]
  },
  {
   "cell_type": "markdown",
   "id": "041e56d3",
   "metadata": {},
   "source": [
    "# If EM, manual check"
   ]
  },
  {
   "cell_type": "code",
   "execution_count": 224,
   "id": "f6b7cf52",
   "metadata": {},
   "outputs": [],
   "source": [
    "# =VLOOKUP(B2,Exposure!$B$5:$B$18,1,0)"
   ]
  },
  {
   "cell_type": "code",
   "execution_count": 225,
   "id": "babccaa4",
   "metadata": {},
   "outputs": [],
   "source": [
    "df = pd.read_excel('C:\\\\O365Sync\\\\IMCO\\\\RISK Analytics - Documents\\\\FX Analytics\\\\Active FX Performance\\\\Aggregated Currency Exposure_DoD_'+reportdate+'.xlsx', sheet_name='Diff Summary',header=0)"
   ]
  },
  {
   "cell_type": "code",
   "execution_count": 226,
   "id": "f2447fee",
   "metadata": {},
   "outputs": [],
   "source": [
    "df = df[:15]"
   ]
  },
  {
   "cell_type": "code",
   "execution_count": 227,
   "id": "237c2047",
   "metadata": {},
   "outputs": [
    {
     "data": {
      "text/plain": [
       "['USD']"
      ]
     },
     "execution_count": 227,
     "metadata": {},
     "output_type": "execute_result"
    }
   ],
   "source": [
    "list(df[(abs(df['ACE (CAD $)'])>=10000000) & (abs(df['AFX (CAD $)'])>=10000000)]['Currency'])"
   ]
  },
  {
   "cell_type": "code",
   "execution_count": 228,
   "id": "ac59f35f",
   "metadata": {},
   "outputs": [
    {
     "name": "stderr",
     "output_type": "stream",
     "text": [
      "C:\\Users\\JiRoxanna\\AppData\\Local\\Temp\\ipykernel_4856\\3645314246.py:11: UserWarning: pandas only supports SQLAlchemy connectable (engine/connection) or database string URI or sqlite3 DBAPI2 connection. Other DBAPI2 objects are not tested. Please consider using SQLAlchemy.\n",
      "  di = pd.read_sql(\"SELECT * FROM \\\n"
     ]
    }
   ],
   "source": [
    "reportdate2 = reportdate[0:4]+\"-\"+reportdate[4:6]+\"-\"+reportdate[6:8]\n",
    "prior_reportdate2 = prior_reportdate[0:4]+\"-\"+prior_reportdate[4:6]+\"-\"+prior_reportdate[6:8]\n",
    "\n",
    "def diff(date):\n",
    "    conn = pyodbc.connect('Driver={SQL Server};'\n",
    "                      'Server=172.16.50.4;'\n",
    "                      'Database=PA;'\n",
    "                      'Trusted_Connection=yes;')\n",
    "    cursor=conn.cursor()\n",
    "\n",
    "    di = pd.read_sql(\"SELECT * FROM \\\n",
    "    (SELECT \\\n",
    "    case  \\\n",
    "    when s.user_group_sector14 is null then s.Currency_Code \\\n",
    "    when s.User_Group_Sector14 <> '003' then s.Currency_Code \\\n",
    "    else cc.Currency_Code \\\n",
    "    end as Currency_Code \\\n",
    "    ,PortCode \\\n",
    "    ,PortName \\\n",
    "    , SUM(CASE WHEN r.GrossEndMktVal IS NULL THEN 0 ELSE r.GrossEndMktVal END) AS MV_END, \\\n",
    "    r.end_effective_date \\\n",
    "    FROM Master_DM..Perf_Return r, \\\n",
    "    Master_DM..Security_Security_Master s, \\\n",
    "    PA..COUNTRY_CODE cc, \\\n",
    "    PA..PORTFOLIO p \\\n",
    "    WHERE s.Security_Alias = r.security_id \\\n",
    "    AND r.entity_id = p.PortCode \\\n",
    "    AND p.PortGroup = 'GEP_CURR' \\\n",
    "    AND p.Date_ = (SELECT MAX(p1.Date_) FROM PA..PORTFOLIO p1 WHERE p1.PortGroup = p.PortGroup AND p1.PortCode = p.PortCode AND p1.Date_ <= r.end_effective_date) \\\n",
    "    AND s.Nra_Tax_Country = cc.COUNTRY_CODE \\\n",
    "    AND r.end_effective_date = '{}' \\\n",
    "    AND (s.User_Group_Sector14 IN ('003', '006', '600','004','INFR') or s.User_Group_Sector14 is NULL or (s.User_Group_Sector14 in ('007') and Issue_Name = 'Project Cloud')) \\\n",
    "    AND r.dictionary_id = 0 \\\n",
    "    AND r.perf_freq_code = 'D' \\\n",
    "    and r.data_source = 'PACE' \\\n",
    "    and s.Primary_Asset_Id <> 'IMCGPSUBCL01' \\\n",
    "    GROUP BY \\\n",
    "    r.begin_effective_date \\\n",
    "    , r.end_effective_date \\\n",
    "    , r.src_intfc_inst \\\n",
    "    , r.perf_freq_code \\\n",
    "    , r.dictionary_id \\\n",
    "    , PortCode \\\n",
    "    , PortName \\\n",
    "    , case  \\\n",
    "    when s.user_group_sector14 is null then s.Currency_Code \\\n",
    "    when s.User_Group_Sector14 <> '003' then s.Currency_Code \\\n",
    "    else cc.Currency_Code \\\n",
    "    end) A \\\n",
    "    WHERE A.Currency_Code in ('USD') order by currency_code asc, portcode asc\".format(date), conn)   \n",
    "    cursor.commit()\n",
    "    cursor.close()\n",
    "    conn.close()\n",
    "    \n",
    "    return di\n",
    "\n",
    "di0 = diff(prior_reportdate2)\n",
    "di1 = diff(reportdate2)"
   ]
  },
  {
   "cell_type": "code",
   "execution_count": 229,
   "id": "5653bd49",
   "metadata": {},
   "outputs": [],
   "source": [
    "di = pd.merge(di0,di1, how='right', on=['Currency_Code', 'PortCode', 'PortName'])\n",
    "di = di.drop(columns = ['end_effective_date_x', 'end_effective_date_y'])\n",
    "di['Diff'] = di['MV_END_y'] - di['MV_END_x']\n",
    "di.columns = ['Currency_Code', 'PortCode', 'PortName', prior_reportdate2, reportdate2, 'Diff'] \n",
    "di = di[(abs(di['Diff'])>999999)]"
   ]
  },
  {
   "cell_type": "code",
   "execution_count": 230,
   "id": "c7e6073e",
   "metadata": {
    "scrolled": true
   },
   "outputs": [
    {
     "data": {
      "text/html": [
       "<div>\n",
       "<style scoped>\n",
       "    .dataframe tbody tr th:only-of-type {\n",
       "        vertical-align: middle;\n",
       "    }\n",
       "\n",
       "    .dataframe tbody tr th {\n",
       "        vertical-align: top;\n",
       "    }\n",
       "\n",
       "    .dataframe thead th {\n",
       "        text-align: right;\n",
       "    }\n",
       "</style>\n",
       "<table border=\"1\" class=\"dataframe\">\n",
       "  <thead>\n",
       "    <tr style=\"text-align: right;\">\n",
       "      <th></th>\n",
       "      <th>Currency_Code</th>\n",
       "      <th>PortCode</th>\n",
       "      <th>PortName</th>\n",
       "      <th>2024-12-02</th>\n",
       "      <th>2024-12-03</th>\n",
       "      <th>Diff</th>\n",
       "    </tr>\n",
       "  </thead>\n",
       "  <tbody>\n",
       "    <tr>\n",
       "      <th>3</th>\n",
       "      <td>USD</td>\n",
       "      <td>IMP022D</td>\n",
       "      <td>IMCO GE Index Completion</td>\n",
       "      <td>1.851786e+09</td>\n",
       "      <td>1.863153e+09</td>\n",
       "      <td>1.136757e+07</td>\n",
       "    </tr>\n",
       "    <tr>\n",
       "      <th>4</th>\n",
       "      <td>USD</td>\n",
       "      <td>IMP022E</td>\n",
       "      <td>IMCO Baillie G Global Equity</td>\n",
       "      <td>4.507220e+08</td>\n",
       "      <td>4.539729e+08</td>\n",
       "      <td>3.250870e+06</td>\n",
       "    </tr>\n",
       "    <tr>\n",
       "      <th>5</th>\n",
       "      <td>USD</td>\n",
       "      <td>IMP022F</td>\n",
       "      <td>IMCO GQG Global Equity</td>\n",
       "      <td>6.405594e+08</td>\n",
       "      <td>6.433100e+08</td>\n",
       "      <td>2.750560e+06</td>\n",
       "    </tr>\n",
       "    <tr>\n",
       "      <th>6</th>\n",
       "      <td>USD</td>\n",
       "      <td>IMP022G</td>\n",
       "      <td>IMCO Guardian C Global Equity</td>\n",
       "      <td>4.405124e+08</td>\n",
       "      <td>4.373324e+08</td>\n",
       "      <td>-3.180019e+06</td>\n",
       "    </tr>\n",
       "    <tr>\n",
       "      <th>15</th>\n",
       "      <td>USD</td>\n",
       "      <td>IMP022R</td>\n",
       "      <td>IMCO GPE LA Capital</td>\n",
       "      <td>8.712549e+08</td>\n",
       "      <td>8.735225e+08</td>\n",
       "      <td>2.267541e+06</td>\n",
       "    </tr>\n",
       "    <tr>\n",
       "      <th>19</th>\n",
       "      <td>USD</td>\n",
       "      <td>IMP022V</td>\n",
       "      <td>IMCO ARGA Global Conc EQ</td>\n",
       "      <td>3.350090e+08</td>\n",
       "      <td>3.323720e+08</td>\n",
       "      <td>-2.636936e+06</td>\n",
       "    </tr>\n",
       "    <tr>\n",
       "      <th>22</th>\n",
       "      <td>USD</td>\n",
       "      <td>IMP02AA</td>\n",
       "      <td>IMCO GPE Liquidity</td>\n",
       "      <td>2.490581e+09</td>\n",
       "      <td>2.504004e+09</td>\n",
       "      <td>1.342266e+07</td>\n",
       "    </tr>\n",
       "  </tbody>\n",
       "</table>\n",
       "</div>"
      ],
      "text/plain": [
       "   Currency_Code PortCode                       PortName    2024-12-02  \\\n",
       "3            USD  IMP022D       IMCO GE Index Completion  1.851786e+09   \n",
       "4            USD  IMP022E   IMCO Baillie G Global Equity  4.507220e+08   \n",
       "5            USD  IMP022F         IMCO GQG Global Equity  6.405594e+08   \n",
       "6            USD  IMP022G  IMCO Guardian C Global Equity  4.405124e+08   \n",
       "15           USD  IMP022R            IMCO GPE LA Capital  8.712549e+08   \n",
       "19           USD  IMP022V       IMCO ARGA Global Conc EQ  3.350090e+08   \n",
       "22           USD  IMP02AA             IMCO GPE Liquidity  2.490581e+09   \n",
       "\n",
       "      2024-12-03          Diff  \n",
       "3   1.863153e+09  1.136757e+07  \n",
       "4   4.539729e+08  3.250870e+06  \n",
       "5   6.433100e+08  2.750560e+06  \n",
       "6   4.373324e+08 -3.180019e+06  \n",
       "15  8.735225e+08  2.267541e+06  \n",
       "19  3.323720e+08 -2.636936e+06  \n",
       "22  2.504004e+09  1.342266e+07  "
      ]
     },
     "execution_count": 230,
     "metadata": {},
     "output_type": "execute_result"
    }
   ],
   "source": [
    "di"
   ]
  },
  {
   "cell_type": "code",
   "execution_count": 231,
   "id": "74f604f9",
   "metadata": {},
   "outputs": [],
   "source": [
    "#writer = pd.ExcelWriter('C:\\\\O365Sync\\\\IMCO\\\\RISK Analytics - Documents\\\\FX Analytics\\\\Active FX Performance\\\\DoD_'+reportdate+'.xlsx', \n",
    "                        #engine='xlsxwriter')\n",
    "#di.to_excel(writer, sheet_name=\"DoD Change\", index=False)"
   ]
  },
  {
   "cell_type": "code",
   "execution_count": 232,
   "id": "844af06c",
   "metadata": {},
   "outputs": [],
   "source": [
    "#DoD = writer.book\n",
    "#DoD_sheet = writer.sheets['DoD Change']\n",
    "#format1 = DoD.add_format({'num_format': '###,###,###,###'})"
   ]
  },
  {
   "cell_type": "code",
   "execution_count": 233,
   "id": "c785648b",
   "metadata": {},
   "outputs": [],
   "source": [
    "#DoD_sheet.set_column(\"D:F\", 14, format1)\n",
    "#DoD_sheet.set_column(\"A:A\", 15)\n",
    "#DoD_sheet.set_column(\"B:B\", 9)\n",
    "#DoD_sheet.set_column(\"C:C\", 30)"
   ]
  },
  {
   "cell_type": "code",
   "execution_count": 234,
   "id": "adccaea5",
   "metadata": {},
   "outputs": [],
   "source": [
    "#writer.close()"
   ]
  },
  {
   "cell_type": "code",
   "execution_count": 235,
   "id": "11dbada5",
   "metadata": {},
   "outputs": [],
   "source": [
    "di.to_excel('C:\\\\O365Sync\\\\IMCO\\\\RISK Analytics - Documents\\\\FX Analytics\\\\Active FX Performance\\\\DoD1_'+reportdate+'.xlsx', sheet_name=\"DoD Change\", index=False)"
   ]
  },
  {
   "cell_type": "code",
   "execution_count": 236,
   "id": "aa199b8d",
   "metadata": {},
   "outputs": [],
   "source": [
    "xl = win32.Dispatch(\"Excel.Application\")  # instantiate excel app\n",
    "xl.Application.visible = True\n",
    "xl.DisplayAlerts = True\n",
    "\n",
    "DoD = xl.Workbooks.Open('C:\\\\O365Sync\\\\IMCO\\\\RISK Analytics - Documents\\\\FX Analytics\\\\Active FX Performance\\\\DoD1_'+reportdate+'.xlsx')\n",
    "DoD_sheet = DoD.Worksheets['DoD Change']\n",
    "\n",
    "# manually change the format"
   ]
  },
  {
   "cell_type": "code",
   "execution_count": null,
   "id": "9f4a79da",
   "metadata": {},
   "outputs": [],
   "source": []
  },
  {
   "cell_type": "code",
   "execution_count": null,
   "id": "0dfb1cf0",
   "metadata": {},
   "outputs": [],
   "source": []
  },
  {
   "cell_type": "code",
   "execution_count": 237,
   "id": "9c3c4855",
   "metadata": {},
   "outputs": [],
   "source": [
    "#wb_dod = xl.Workbooks.Open('C:\\\\O365Sync\\\\IMCO\\\\RISK Analytics - Documents\\\\FX Analytics\\\\Active FX Performance\\\\Aggregated Currency Exposure_DoD_'+reportdate+'.xlsx')"
   ]
  },
  {
   "cell_type": "code",
   "execution_count": 238,
   "id": "647b8016",
   "metadata": {},
   "outputs": [],
   "source": [
    "#diff_dod = xl.Workbooks.Open('C:\\\\O365Sync\\\\IMCO\\\\RISK Analytics - Documents\\\\FX Analytics\\\\Active FX Performance\\\\DoD_'+reportdate+'.xlsx')"
   ]
  },
  {
   "cell_type": "code",
   "execution_count": null,
   "id": "29fe29dc",
   "metadata": {},
   "outputs": [],
   "source": [
    "#The DoD change of AFX in USD was mainly from the accounts below."
   ]
  },
  {
   "cell_type": "code",
   "execution_count": null,
   "id": "5c69dd68",
   "metadata": {},
   "outputs": [],
   "source": []
  }
 ],
 "metadata": {
  "kernelspec": {
   "display_name": "Python 3 (ipykernel)",
   "language": "python",
   "name": "python3"
  },
  "language_info": {
   "codemirror_mode": {
    "name": "ipython",
    "version": 3
   },
   "file_extension": ".py",
   "mimetype": "text/x-python",
   "name": "python",
   "nbconvert_exporter": "python",
   "pygments_lexer": "ipython3",
   "version": "3.11.7"
  }
 },
 "nbformat": 4,
 "nbformat_minor": 5
}
