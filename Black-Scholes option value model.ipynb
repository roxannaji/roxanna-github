{
 "cells": [
  {
   "cell_type": "code",
   "execution_count": 21,
   "id": "cb12a626-5744-482d-9402-f69d8e14d2b8",
   "metadata": {},
   "outputs": [],
   "source": [
    "# Compute Black-Scholes option value using a binomial tree\n",
    "# European case\n",
    "# use loops\n",
    "\n",
    "import math as m\n",
    "import numpy as np\n",
    "\n",
    "S0 = 100     # S0 - current stock price\n",
    "K = 100      # K - strike\n",
    "T = 1.0      # T - expiry time\n",
    "r = .04      # r - interest rate\n",
    "sigma = .32  # sigma - volatility\n",
    "opttype = 0  # opttype - 0 for a call, otherwise a put\n",
    "Nsteps = 500 # Nsteps - number of timesteps\n",
    "\n",
    "\n",
    "def Eurpayoff(S0, K, T, r, sigma, opttype, Nsteps):\n",
    "    # generate payoff of European call/put option\n",
    "    delt = T/Nsteps\n",
    "    # tree parameters\n",
    "    u = m.exp(sigma * m.sqrt(delt))\n",
    "    d = 1/u\n",
    "    a = m.exp(r * delt)\n",
    "    p = (a - d)/(u - d)\n",
    "    \n",
    "    # pay off at t = T\n",
    "    W = S0 * u ** np.arange(Nsteps + 1) * d ** np.arange(Nsteps, -1, -1)\n",
    "    \n",
    "    #vector operations\n",
    "    if (opttype == 0):\n",
    "        W = np.maximum(W - K, 0);  # call case\n",
    "    else:\n",
    "        W = np.maximum(K - W, 0);  # put case\n",
    "        \n",
    "    for j in np.arange(Nsteps, 0, -1):\n",
    "        W = np.exp(-r * delt) * (p * W[1:j+1] + (1 - p) * W[0:j]) \n",
    "        # European lattice algorithm\n",
    "        value = W[0]\n",
    "    return value\n"
   ]
  },
  {
   "cell_type": "code",
   "execution_count": 22,
   "id": "c7610198-02f5-4964-b76e-353c9855e0fc",
   "metadata": {},
   "outputs": [],
   "source": [
    "def Amepayoff_call(S0, K, T, r, sigma, Nsteps): \n",
    "    # generate payoff of American call option\n",
    "    \n",
    "    delt = T/Nsteps\n",
    "    # tree parameters\n",
    "    u = m.exp(sigma * m.sqrt(delt))\n",
    "    d = 1/u\n",
    "    a = m.exp(r * delt)\n",
    "    p = (a - d)/(u - d)\n",
    "    \n",
    "    # pay off at t = T\n",
    "    W = S0 * u ** np.arange(Nsteps + 1) * d ** np.arange(Nsteps, -1, -1)\n",
    "    W = np.maximum(W - K, 0)  # call case\n",
    "    currprice = W\n",
    "    \n",
    "    for j in np.arange(Nsteps, 0, -1):\n",
    "        W = np.exp(-r * delt) * (p * W[1:j+1] + (1 - p) * W[0:j]) \n",
    "        # American lattice algorithm\n",
    "        currprice = u * currprice[0:j] \n",
    "        W = np.maximum(W, np.maximum(currprice - K, 0))\n",
    "        value = W[0]\n",
    "    return value\n"
   ]
  },
  {
   "cell_type": "code",
   "execution_count": 30,
   "id": "556f1f14-53d2-415f-ba15-b55d510993f2",
   "metadata": {},
   "outputs": [],
   "source": [
    "def Amepayoff_put(S0, K, T, r, sigma, Nsteps): \n",
    "    # generate payoff of American put option\n",
    "    \n",
    "    delt = T/Nsteps\n",
    "    # tree parameters\n",
    "    u = m.exp(sigma * m.sqrt(delt))\n",
    "    d = 1/u\n",
    "    a = m.exp(r * delt)\n",
    "    p = (a - d)/(u - d)\n",
    "    \n",
    "    # pay off at t = T\n",
    "    W = S0 * u ** np.arange(Nsteps + 1) * d ** np.arange(Nsteps, -1, -1)\n",
    "    currprice = W\n",
    "    W = np.maximum(K - W, 0)  # put case\n",
    "    \n",
    "    for j in np.arange(Nsteps, 0, -1):\n",
    "        W = np.exp(-r * delt) * (p * W[1:j+1] + (1 - p) * W[0:j]) \n",
    "        # American lattice algorithm\n",
    "        currprice = u * currprice[0:j] \n",
    "        W = np.maximum(W, np.maximum(K - currprice, 0))\n",
    "        value = W[0]\n",
    "    return value\n"
   ]
  },
  {
   "cell_type": "code",
   "execution_count": 31,
   "id": "1d775eac-edb4-439e-a389-bb557f53eaa4",
   "metadata": {},
   "outputs": [
    {
     "data": {
      "text/plain": [
       "14.513319919417471"
      ]
     },
     "execution_count": 31,
     "metadata": {},
     "output_type": "execute_result"
    }
   ],
   "source": [
    "Eurpayoff(100, 100, 1.0, 0.04, 0.32, 0, 500) # payoff of European call options"
   ]
  },
  {
   "cell_type": "code",
   "execution_count": 32,
   "id": "f6157fd1-65c6-4b19-968d-476915b2232e",
   "metadata": {},
   "outputs": [
    {
     "data": {
      "text/plain": [
       "10.592263834646982"
      ]
     },
     "execution_count": 32,
     "metadata": {},
     "output_type": "execute_result"
    }
   ],
   "source": [
    "Eurpayoff(100, 100, 1.0, 0.04, 0.32, 1, 500) # payoff of European put options"
   ]
  },
  {
   "cell_type": "code",
   "execution_count": 33,
   "id": "a3e5147e-ee84-46da-978b-902195607172",
   "metadata": {},
   "outputs": [
    {
     "data": {
      "text/plain": [
       "14.513319919417471"
      ]
     },
     "execution_count": 33,
     "metadata": {},
     "output_type": "execute_result"
    }
   ],
   "source": [
    "Amepayoff_call(100, 100, 1.0, 0.04, 0.32, 500) # payoff of American call options"
   ]
  },
  {
   "cell_type": "code",
   "execution_count": 34,
   "id": "14c0c41a-f1dd-4b84-989c-c93354fe2441",
   "metadata": {},
   "outputs": [
    {
     "data": {
      "text/plain": [
       "10.991823139809181"
      ]
     },
     "execution_count": 34,
     "metadata": {},
     "output_type": "execute_result"
    }
   ],
   "source": [
    "Amepayoff_put(100, 100, 1.0, 0.04, 0.32, 500) # payoff of American put options"
   ]
  },
  {
   "cell_type": "code",
   "execution_count": 36,
   "id": "f49925e1-24a5-4e6b-a610-9eccb58f689f",
   "metadata": {},
   "outputs": [],
   "source": [
    "from scipy.stats import norm\n",
    "\n",
    "# generating a Black-Scholes Model \n",
    "def blsprice(Price, Strike ,Rate, Time, Volatility):\n",
    "    denomi = Volatility * m.sqrt(Time)  \n",
    "    # calculating volatility times the square root of time\n",
    "    numera = m.log(Price / Strike) + (Rate + 0.5 * Volatility ** 2 ) * Time\n",
    "    d1 = numera / denomi\n",
    "    d2 = d1 - denomi\n",
    "    cdf1 = norm.cdf(d1) # calculating N(d1)\n",
    "    cdf2 = norm.cdf(d2) # calculating N(d2)\n",
    "    \n",
    "    factor = m.exp(- Rate * Time)\n",
    "    \n",
    "    call = Price * cdf1 - Strike * factor * cdf2 # calculating the call option price \n",
    "    put = Strike * factor * (1 - cdf2) - Price * (1 - cdf1)\n",
    "    # calculating the put option price \n",
    "    return call, put\n",
    "\n",
    "def blsdelta(Price, Strike , Rate, Time, Volatility):\n",
    "    denomi = Volatility * m.sqrt(Time)  \n",
    "    # calculating volatility times the square root of time\n",
    "    numera = m.log(Price / Strike) + (Rate + 0.5 * Volatility ** 2 ) * Time\n",
    "    d1 = numera / denomi\n",
    "    c_delt = norm.cdf(d1)\n",
    "    delta_call = c_delt\n",
    "    delta_put = c_delt - 1\n",
    "    return delta_call, delta_put\n"
   ]
  },
  {
   "cell_type": "code",
   "execution_count": 37,
   "id": "463ae865-1475-4136-9668-24a6c18e6f1c",
   "metadata": {},
   "outputs": [
    {
     "data": {
      "text/plain": [
       "(14.519595451443337, 10.598539366675652)"
      ]
     },
     "execution_count": 37,
     "metadata": {},
     "output_type": "execute_result"
    }
   ],
   "source": [
    "blsprice(100, 100, 0.04, 1.0, 0.32) # generating the call/put option prices"
   ]
  },
  {
   "cell_type": "code",
   "execution_count": 38,
   "id": "5f3e00ae-ee6c-4644-9b97-310df52a2024",
   "metadata": {},
   "outputs": [
    {
     "data": {
      "text/plain": [
       "(0.6121779290374987, -0.3878220709625013)"
      ]
     },
     "execution_count": 38,
     "metadata": {},
     "output_type": "execute_result"
    }
   ],
   "source": [
    "blsdelta(100, 100, 0.04, 1.0, 0.32) # generating the call/put delta"
   ]
  },
  {
   "cell_type": "code",
   "execution_count": 48,
   "id": "36982afd-d7bb-415d-b387-de844a5b4009",
   "metadata": {},
   "outputs": [
    {
     "name": "stdout",
     "output_type": "stream",
     "text": [
      "Δt          Value       Change    Ratio\n",
      "--------  -------  -----------  -------\n",
      "0.002     14.5133\n",
      "0.001     14.5165  0.00313737\n",
      "0.0005    14.518   0.00156898   1.99962\n",
      "0.00025   14.5188  0.000784564  1.99981\n",
      "0.000125  14.5192  0.000392301  1.99991\n",
      "exact     14.5196\n"
     ]
    }
   ],
   "source": [
    "import tabulate as tab\n",
    "\n",
    "# generating convergence table for European call options\n",
    "\n",
    "# generating column of values\n",
    "v1 = Eurpayoff(100, 100, 1.0, 0.04, 0.32, 0, 500)\n",
    "v2 = Eurpayoff(100, 100, 1.0, 0.04, 0.32, 0, 1000)\n",
    "v3 = Eurpayoff(100, 100, 1.0, 0.04, 0.32, 0, 2000)\n",
    "v4 = Eurpayoff(100, 100, 1.0, 0.04, 0.32, 0, 4000)\n",
    "v5 = Eurpayoff(100, 100, 1.0, 0.04, 0.32, 0, 8000)\n",
    "\n",
    "# generating column of changes\n",
    "c2_1 = v2 - v1\n",
    "c3_2 = v3 - v2\n",
    "c4_3 = v4 - v3\n",
    "c5_4 = v5 - v4\n",
    "\n",
    "# generating column of ratio\n",
    "r3 = c2_1 / c3_2\n",
    "r4 = c3_2 / c4_3\n",
    "r5 = c4_3 / c5_4\n",
    "\n",
    "# generating column of delt_t\n",
    "dt1 = T / 500\n",
    "dt2 = T / 1000\n",
    "dt3 = T / 2000\n",
    "dt4 = T / 4000\n",
    "dt5 = T / 8000\n",
    "\n",
    "# generating the exact price of the call option\n",
    "exact = blsprice(100, 100, 0.04, 1.0, 0.32)[0]\n",
    "\n",
    "names = [\"Δt\", \"Value\", \"Change\", \"Ratio\"]\n",
    "call_convtab = [[dt1, v1],\n",
    "                [dt2, v2, c2_1],\n",
    "                [dt3, v3, c3_2, r3],\n",
    "                [dt4, v4, c4_3, r4],\n",
    "                [dt5, v5, c5_4, r5],\n",
    "                [\"exact\", exact]]\n",
    "print(tab.tabulate(call_convtab, headers = names))\n"
   ]
  },
  {
   "cell_type": "code",
   "execution_count": 49,
   "id": "8c7fb8a5-6413-45d0-b932-afbf630c1360",
   "metadata": {},
   "outputs": [
    {
     "name": "stdout",
     "output_type": "stream",
     "text": [
      "Δt          Value       Change    Ratio\n",
      "--------  -------  -----------  -------\n",
      "0.002     10.5923\n",
      "0.001     10.5954  0.00313737\n",
      "0.0005    10.597   0.00156898   1.99962\n",
      "0.00025   10.5978  0.000784564  1.99981\n",
      "0.000125  10.5981  0.000392301  1.99991\n",
      "exact     10.5985\n"
     ]
    }
   ],
   "source": [
    "# generating convergence table for European put options\n",
    "\n",
    "# generating column of values\n",
    "pv1 = Eurpayoff(100, 100, 1.0, 0.04, 0.32, 1, 500)\n",
    "pv2 = Eurpayoff(100, 100, 1.0, 0.04, 0.32, 1, 1000)\n",
    "pv3 = Eurpayoff(100, 100, 1.0, 0.04, 0.32, 1, 2000)\n",
    "pv4 = Eurpayoff(100, 100, 1.0, 0.04, 0.32, 1, 4000)\n",
    "pv5 = Eurpayoff(100, 100, 1.0, 0.04, 0.32, 1, 8000)\n",
    "\n",
    "# generating column of changes\n",
    "pc2_1 = pv2 - pv1\n",
    "pc3_2 = pv3 - pv2\n",
    "pc4_3 = pv4 - pv3\n",
    "pc5_4 = pv5 - pv4\n",
    "\n",
    "# generating column of ratio\n",
    "pr3 = pc2_1 / pc3_2\n",
    "pr4 = pc3_2 / pc4_3\n",
    "pr5 = pc4_3 / pc5_4\n",
    "\n",
    "# generating column of delt_t\n",
    "dt1 = T / 500\n",
    "dt2 = T / 1000\n",
    "dt3 = T / 2000\n",
    "dt4 = T / 4000\n",
    "dt5 = T / 8000\n",
    "\n",
    "# generating the exact price of the put option\n",
    "pexact = blsprice(100, 100, 0.04, 1.0, 0.32)[1]\n",
    "\n",
    "names = [\"Δt\", \"Value\", \"Change\", \"Ratio\"]\n",
    "put_convtab = [[dt1, pv1],\n",
    "                [dt2, pv2, pc2_1],\n",
    "                [dt3, pv3, pc3_2, pr3],\n",
    "                [dt4, pv4, pc4_3, pr4],\n",
    "                [dt5, pv5, pc5_4, pr5],\n",
    "                [\"exact\", pexact]]\n",
    "print(tab.tabulate(put_convtab, headers = names))\n"
   ]
  },
  {
   "cell_type": "code",
   "execution_count": 46,
   "id": "927e5e27-57a6-4895-a014-b860cffdd3ba",
   "metadata": {},
   "outputs": [
    {
     "name": "stdout",
     "output_type": "stream",
     "text": [
      "      Δt    Value       Change    Ratio\n",
      "--------  -------  -----------  -------\n",
      "0.002     10.9918\n",
      "0.001     10.9935  0.00163496\n",
      "0.0005    10.9943  0.000822012  1.98897\n",
      "0.00025   10.9947  0.000404171  2.03382\n",
      "0.000125  10.9949  0.000202384  1.99705\n"
     ]
    }
   ],
   "source": [
    "# generating convergence table for American put options\n",
    "\n",
    "# generating column of values\n",
    "value1 = Amepayoff_put(100, 100, 1.0, 0.04, 0.32, 500)\n",
    "value2 = Amepayoff_put(100, 100, 1.0, 0.04, 0.32, 1000)\n",
    "value3 = Amepayoff_put(100, 100, 1.0, 0.04, 0.32, 2000)\n",
    "value4 = Amepayoff_put(100, 100, 1.0, 0.04, 0.32, 4000)\n",
    "value5 = Amepayoff_put(100, 100, 1.0, 0.04, 0.32, 8000)\n",
    "\n",
    "# generating column of changes\n",
    "change2_1 = value2 - value1\n",
    "change3_2 = value3 - value2\n",
    "change4_3 = value4 - value3\n",
    "change5_4 = value5 - value4\n",
    "\n",
    "# generating column of ratio\n",
    "ratio3 = change2_1 / change3_2\n",
    "ratio4 = change3_2 / change4_3\n",
    "ratio5 = change4_3 / change5_4\n",
    "\n",
    "# generating column of delt_t\n",
    "dt1 = T / 500\n",
    "dt2 = T / 1000\n",
    "dt3 = T / 2000\n",
    "dt4 = T / 4000\n",
    "dt5 = T / 8000\n",
    "\n",
    "names = [\"Δt\", \"Value\", \"Change\", \"Ratio\"]\n",
    "convtab = [[dt1, value1],\n",
    "           [dt2, value2, change2_1],\n",
    "           [dt3, value3, change3_2, ratio3],\n",
    "           [dt4, value4, change4_3, ratio4],\n",
    "           [dt5, value5, change5_4, ratio5]]\n",
    "print(tab.tabulate(convtab, headers = names))\n"
   ]
  },
  {
   "cell_type": "markdown",
   "id": "50b7691e-04f7-4610-b220-b72c595b01a5",
   "metadata": {},
   "source": [
    "We see from the three tables that for the cases of European call/put and American put options, the ratios are approaching 2, so the order of accuracy is 1, which agrees with the theory above."
   ]
  }
 ],
 "metadata": {
  "kernelspec": {
   "display_name": "Python 3 (ipykernel)",
   "language": "python",
   "name": "python3"
  },
  "language_info": {
   "codemirror_mode": {
    "name": "ipython",
    "version": 3
   },
   "file_extension": ".py",
   "mimetype": "text/x-python",
   "name": "python",
   "nbconvert_exporter": "python",
   "pygments_lexer": "ipython3",
   "version": "3.9.13"
  }
 },
 "nbformat": 4,
 "nbformat_minor": 5
}
