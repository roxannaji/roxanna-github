{
 "cells": [
  {
   "cell_type": "code",
   "execution_count": 35,
   "id": "791653fa-1686-43cb-ab7b-4e0bee7beaf9",
   "metadata": {},
   "outputs": [],
   "source": [
    "import math as m\n",
    "import numpy as np\n",
    "from scipy.stats import norm\n",
    "\n",
    "def blsprice(Price, Strike ,Rate, Time, Volatility):\n",
    "    denomi = Volatility * m.sqrt(Time)  \n",
    "    # calculating volatility times the square root of time\n",
    "    numera = m.log(Price / Strike) + (Rate + 0.5 * Volatility ** 2 ) * Time\n",
    "    d1 = numera / denomi\n",
    "    d2 = d1 - denomi\n",
    "    cdf1 = norm.cdf(d1) # calculating N(d1)\n",
    "    cdf2 = norm.cdf(d2) # calculating N(d2)\n",
    "    \n",
    "    factor = m.exp(- Rate * Time)\n",
    "    \n",
    "    call = Price * cdf1 - Strike * factor * cdf2 # calculating the call option price \n",
    "    put = Strike * factor * (1 - cdf2) - Price * (1 - cdf1)\n",
    "    # calculating the put option price \n",
    "    return call, put"
   ]
  },
  {
   "cell_type": "code",
   "execution_count": 39,
   "id": "8347cdc7-1373-4666-ae3d-b0a146612877",
   "metadata": {},
   "outputs": [
    {
     "name": "stdout",
     "output_type": "stream",
     "text": [
      "Strike price \t mean \t\t median \t 95% VAR \t 95% cVAR\n",
      "101 \t 0.1002705 \t\t 0.1795141 \t\t -0.2911139 \t\t -0.4100546\n",
      "115 \t 0.0955998 \t\t 0.2283882 \t\t -0.3690331 \t\t -0.4973321\n",
      "130 \t 0.0863772 \t\t 0.2774123 \t\t -0.4478693 \t\t -0.5871647\n"
     ]
    }
   ],
   "source": [
    "from matplotlib import pyplot as plt\n",
    "\n",
    "vol = 0.35\n",
    "r = 0.07\n",
    "T = 1.5\n",
    "S0 = 100\n",
    "S_init = 100\n",
    "mu = 0.09\n",
    "sim = 80000\n",
    "\n",
    "def covered_call(K):\n",
    "    interval = T / sim\n",
    "    S = S0 * np.ones(sim)\n",
    "    St = S * np.exp((mu - vol ** 2 / 2) * T + vol * m.sqrt(T) * np.random.normal(0,1,sim))\n",
    "    valcall = blsprice(S0, K, r, T, vol)[0] * m.exp(r * T)\n",
    "    V = St + valcall - np.maximum(0, St - K)\n",
    "    \n",
    "    R = np.log(V/S0)\n",
    "    R = np.sort(R)\n",
    "    mean = np.mean(R)\n",
    "    sd = np.std(R)\n",
    "    VAR = np.quantile(R, 0.05)\n",
    "    cVAR = np.mean(R[R<=VAR])\n",
    "    return mean, sd, VAR, cVAR, R\n",
    "    \n",
    "\n",
    "sim1 = covered_call(101)\n",
    "sim2 = covered_call(115)\n",
    "sim3 = covered_call(130)\n",
    "\n",
    "\n",
    "print(\"Strike price \\t mean \\t\\t median \\t 95% VAR \\t 95% cVAR\")\n",
    "print(\"101 \\t %0.7f \\t\\t %0.7f \\t\\t %0.7f \\t\\t %0.7f\" % (sim1[0], sim1[1], sim1[2], sim1[3]))\n",
    "print(\"115 \\t %0.7f \\t\\t %0.7f \\t\\t %0.7f \\t\\t %0.7f\" % (sim2[0], sim2[1], sim2[2], sim2[3]))\n",
    "print(\"130 \\t %0.7f \\t\\t %0.7f \\t\\t %0.7f \\t\\t %0.7f\" % (sim3[0], sim3[1], sim3[2], sim3[3]))\n"
   ]
  },
  {
   "cell_type": "code",
   "execution_count": 40,
   "id": "2220ba66-857b-4700-8ff9-74085c6467fe",
   "metadata": {},
   "outputs": [
    {
     "data": {
      "text/plain": [
       "Text(0.5, 1.0, 'Covered call strategy: K = 130 Probability density function of log return')"
      ]
     },
     "execution_count": 40,
     "metadata": {},
     "output_type": "execute_result"
    },
    {
     "data": {
      "image/png": "[encoded data removed]",
      "text/plain": [
       "<Figure size 640x480 with 1 Axes>"
      ]
     },
     "metadata": {},
     "output_type": "display_data"
    }
   ],
   "source": [
    "plt.hist(sim3[4], bins = 80, density = True)\n",
    "plt.title(\"Covered call strategy: K = 130 Probability density function of log return\")"
   ]
  },
  {
   "cell_type": "markdown",
   "id": "e4a54c58-c160-4f13-92ab-32182489371d",
   "metadata": {},
   "source": [
    "The probability density function is presenting a left tail, and it has most frequency occurred beyong 0.0, especially at around 0.34. "
   ]
  },
  {
   "cell_type": "code",
   "execution_count": null,
   "id": "a51d614f-3960-442c-9a46-f8dc2e544ac6",
   "metadata": {},
   "outputs": [],
   "source": []
  }
 ],
 "metadata": {
  "kernelspec": {
   "display_name": "Python 3 (ipykernel)",
   "language": "python",
   "name": "python3"
  },
  "language_info": {
   "codemirror_mode": {
    "name": "ipython",
    "version": 3
   },
   "file_extension": ".py",
   "mimetype": "text/x-python",
   "name": "python",
   "nbconvert_exporter": "python",
   "pygments_lexer": "ipython3",
   "version": "3.9.13"
  }
 },
 "nbformat": 4,
 "nbformat_minor": 5
}
