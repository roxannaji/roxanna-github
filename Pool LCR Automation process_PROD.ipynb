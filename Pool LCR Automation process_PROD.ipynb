{
 "cells": [
  {
   "cell_type": "markdown",
   "id": "59a31730",
   "metadata": {},
   "source": [
    "## Create results folder"
   ]
  },
  {
   "cell_type": "code",
   "execution_count": 20,
   "id": "439aedcb",
   "metadata": {},
   "outputs": [],
   "source": [
    "# Import Packages\n",
    "from zipfile import ZipFile\n",
    "import pandas as pd\n",
    "from datetime import datetime, date\n",
    "import glob\n",
    "import win32com.client as win32\n",
    "import os\n",
    "import shutil\n",
    "from pywintypes import com_error\n",
    "import numpy as np\n",
    "#from suds.client import Client\n",
    "import time\n",
    "import base64\n",
    "import openpyxl\n",
    "from openpyxl import load_workbook\n",
    "import pyodbc\n",
    "import pytz"
   ]
  },
  {
   "cell_type": "code",
   "execution_count": 21,
   "id": "549186cb",
   "metadata": {},
   "outputs": [],
   "source": [
    "#adjust the number of days to offset the report date and the previous report date\n",
    "k = 3\n",
    "l = 4\n",
    "\n",
    "#k = 3\n",
    "#l = 4"
   ]
  },
  {
   "cell_type": "code",
   "execution_count": 24,
   "id": "65d7a441",
   "metadata": {},
   "outputs": [
    {
     "name": "stdout",
     "output_type": "stream",
     "text": [
      "Date's report date is: 2024-11-08 00:00:00\n",
      "Previous report date is: 2024-11-07 00:00:00\n",
      "Date's collateral date is: 2024-11-12 00:00:00\n"
     ]
    }
   ],
   "source": [
    "################# Step 1. get the correct date ################################\n",
    "# Create an offset of 2 Business days\n",
    "offset_today = pd.tseries.offsets.BusinessDay(n=k)\n",
    "offset_previous_day = pd.tseries.offsets.BusinessDay(n=l)\n",
    "offset_collateral_day = pd.tseries.offsets.BusinessDay(n=k-2)\n",
    "\n",
    "# initializing dates\n",
    "today_date = date.today() - offset_today\n",
    "prior_date = date.today() - offset_previous_day\n",
    "collateral_date = date.today() - offset_collateral_day\n",
    "\n",
    "# printing original date\n",
    "print(\"Date's report date is: \" + str(today_date))\n",
    "print(\"Previous report date is: \" + str(prior_date))\n",
    "print(\"Date's collateral date is: \" + str(collateral_date))\n",
    "\n",
    "# Creating Timestamp\n",
    "ts = pd.Timestamp(str(today_date))"
   ]
  },
  {
   "cell_type": "code",
   "execution_count": 25,
   "id": "2edd82d0",
   "metadata": {},
   "outputs": [],
   "source": [
    "reportdate = today_date.strftime('%Y%m%d')\n",
    "prior_reportdate = prior_date.strftime('%Y%m%d')"
   ]
  },
  {
   "cell_type": "code",
   "execution_count": 26,
   "id": "c12b92d4",
   "metadata": {},
   "outputs": [],
   "source": [
    "savePath = \"C:\\\\O365SYNC\\\\IMCO\\\\RISK RM - Documents\\\\BarraOne\\\\Liquidity Test\\\\Daily Reports\\\\RM Pool LCR\"\n",
    "os.chdir(savePath)"
   ]
  },
  {
   "cell_type": "code",
   "execution_count": 27,
   "id": "ad9e82c1",
   "metadata": {},
   "outputs": [],
   "source": [
    "# create a new folder to save reports\n",
    "report_folder = reportdate + \"\\\\\"\n",
    "folder_path = os.path.join(savePath, report_folder)\n",
    "os.makedirs(folder_path)"
   ]
  },
  {
   "cell_type": "code",
   "execution_count": 28,
   "id": "5763d028",
   "metadata": {},
   "outputs": [
    {
     "data": {
      "text/plain": [
       "'C:\\\\O365SYNC\\\\IMCO\\\\RISK RM - Documents\\\\BarraOne\\\\Liquidity Test\\\\Daily Reports\\\\RM Pool LCR\\\\20241108\\\\'"
      ]
     },
     "execution_count": 28,
     "metadata": {},
     "output_type": "execute_result"
    }
   ],
   "source": [
    "folder_path"
   ]
  },
  {
   "cell_type": "code",
   "execution_count": 29,
   "id": "c2552929",
   "metadata": {},
   "outputs": [],
   "source": [
    "file_list = ['Liquidity Report_'+reportdate+'_Pool LCR_RM.xlsm']"
   ]
  },
  {
   "cell_type": "code",
   "execution_count": 30,
   "id": "e21cd25e",
   "metadata": {},
   "outputs": [],
   "source": [
    "prior_file_list = ['Liquidity Report_Pool LCR_RM template - v2.xlsm']"
   ]
  },
  {
   "cell_type": "code",
   "execution_count": 31,
   "id": "60e6c84c",
   "metadata": {},
   "outputs": [],
   "source": [
    "# prior_report_folder = prior_reportdate + '\\\\'\n",
    "# prior_folder_path = os.path.join(savePath, prior_report_folder)"
   ]
  },
  {
   "cell_type": "code",
   "execution_count": 32,
   "id": "bf329653",
   "metadata": {},
   "outputs": [
    {
     "name": "stdout",
     "output_type": "stream",
     "text": [
      "copied Liquidity Report_20241108_Pool LCR_RM.xlsm\n"
     ]
    }
   ],
   "source": [
    "for i in range(len(file_list)):\n",
    "\n",
    "    # construct full file path\n",
    "    destination = folder_path + file_list[i]\n",
    "    source = savePath + \"\\\\\" + prior_file_list[i]\n",
    "\n",
    "    shutil.copy(source, destination)\n",
    "    print('copied', file_list[i])"
   ]
  },
  {
   "cell_type": "markdown",
   "id": "0e7a9343",
   "metadata": {},
   "source": [
    "## Collateral"
   ]
  },
  {
   "cell_type": "code",
   "execution_count": 33,
   "id": "516395ee",
   "metadata": {},
   "outputs": [
    {
     "data": {
      "text/plain": [
       "'Nov-12-2024'"
      ]
     },
     "execution_count": 33,
     "metadata": {},
     "output_type": "execute_result"
    }
   ],
   "source": [
    "collateral_date = collateral_date.strftime('X%b-X%d-%Y').replace('X0','X').replace('X','')\n",
    "collateral_date"
   ]
  },
  {
   "cell_type": "code",
   "execution_count": 40,
   "id": "8a37eea5",
   "metadata": {},
   "outputs": [
    {
     "name": "stdout",
     "output_type": "stream",
     "text": [
      "Success.\n"
     ]
    }
   ],
   "source": [
    "# prior_Lcr = 'Liquidity Report_' + prior_date.strftime('%Y%m%d') + '.xlsm'\n",
    "\n",
    "try:\n",
    "    xl = win32.Dispatch(\"Excel.Application\")  # instantiate excel app\n",
    "    xl.Application.visible = True\n",
    "    xl.DisplayAlerts = False\n",
    "    wb1 = xl.Workbooks.Open(folder_path+'Liquidity Report_'+reportdate+'_Pool LCR_RM.xlsm')\n",
    "\n",
    "except com_error as e:\n",
    "    print('Failure.', e)\n",
    "else:\n",
    "    print('Success.')"
   ]
  },
  {
   "cell_type": "code",
   "execution_count": 43,
   "id": "c0fe5250",
   "metadata": {},
   "outputs": [],
   "source": [
    "# update date\n",
    "ws = wb1.Worksheets('Instructions')\n",
    "ws.Activate()\n",
    "ws.Range('F15').Value = today_date.strftime('%#m/%d/%Y')"
   ]
  },
  {
   "cell_type": "code",
   "execution_count": 44,
   "id": "e0b3984c",
   "metadata": {},
   "outputs": [],
   "source": [
    "collateral_wb = xl.Workbooks.Open(folder_path + 'IMCO Collateral Report - ' +collateral_date+'.xlsx')\n",
    "collateral_ws = collateral_wb.Worksheets('Reporting')\n",
    "\n",
    "c_ws = wb1.Worksheets('Collateral')\n",
    "c_ws.Activate()\n",
    "\n",
    "# Clear the contents \n",
    "end_row = c_ws.Range(\"X\" + str(c_ws.Rows.Count)).End(-4162).Row\n",
    "range_to_clear = c_ws.Range(f'O6:Z{end_row}')\n",
    "range_to_clear.ClearContents()\n",
    "\n",
    "collateral_ws.Activate()\n",
    "last_row = collateral_ws.Range(\"J\" + str(collateral_ws.Rows.Count)).End(-4162).Row\n",
    "collateral_ws.Range(f'A6:L{last_row}').Copy()\n",
    "\n",
    "c_ws.Activate()\n",
    "c_ws.Range(f'O6:Z{end_row}').Select()\n",
    "xl.Selection.PasteSpecial()\n",
    "\n",
    "collateral_wb.Close()"
   ]
  },
  {
   "cell_type": "code",
   "execution_count": null,
   "id": "3e131b68",
   "metadata": {},
   "outputs": [],
   "source": []
  },
  {
   "cell_type": "markdown",
   "id": "65359aa2",
   "metadata": {},
   "source": [
    "## EQ Pool Data"
   ]
  },
  {
   "cell_type": "code",
   "execution_count": 38,
   "id": "f11cc192",
   "metadata": {},
   "outputs": [
    {
     "data": {
      "text/plain": [
       "True"
      ]
     },
     "execution_count": 38,
     "metadata": {},
     "output_type": "execute_result"
    }
   ],
   "source": [
    "import openpyxl as xl;\n",
    "\n",
    "xl = win32.Dispatch(\"Excel.Application\")  # instantiate excel app\n",
    "xl.Application.visible = True\n",
    "xl.DisplayAlerts = True\n",
    "\n",
    "from openpyxl import load_workbook\n",
    "\n",
    "wb1 = xl.Workbooks.Open(folder_path+'Liquidity Report_'+reportdate+'_Pool LCR_RM.xlsm')\n",
    "wb2 = xl.Workbooks.Open(folder_path+'EQ Pool LCR.xlsx')\n",
    "\n",
    "ws1 = wb2.Worksheets('View 1_IMCC0010_positionType ')\n",
    "ws2 = wb2.Worksheets('View 1_IMCC0001_positionType ')\n",
    "ws3 = wb2.Worksheets('View 1_IMCC0015_positionType ')\n",
    "\n",
    "ws4 = wb1.Worksheets('IMCO Global Equity Pool')\n",
    "ws5 = wb1.Worksheets('IMCO Canadian Equity Pool')\n",
    "ws6 = wb1.Worksheets('IMCO EM Equity Pool')\n",
    "\n",
    "# GPE\n",
    "ws1.Activate()\n",
    "ws1.Range(f'B1:AI{ws1.Range(\"B\" + str(ws1.Rows.Count)).End(-4162).Row}').Copy()\n",
    "ws4.Activate()\n",
    "\n",
    "# Clear the contents \n",
    "end_row = ws4.Range(\"E\" + str(ws4.Rows.Count)).End(-4162).Row\n",
    "range_to_clear = ws4.Range(f'E1:AI{end_row}')\n",
    "range_to_clear.Value = None\n",
    "\n",
    "ws4.Range(f'E1:AI{end_row}').Select()\n",
    "xl.Selection.PasteSpecial(Paste=12)\n",
    "\n",
    "# CPE\n",
    "ws2.Activate()\n",
    "ws2.Range(f'B1:AI{ws2.Range(\"B\" + str(ws2.Rows.Count)).End(-4162).Row}').Copy()\n",
    "ws5.Activate()\n",
    "\n",
    "# Clear the contents \n",
    "end_row = ws5.Range(\"E\" + str(ws5.Rows.Count)).End(-4162).Row\n",
    "range_to_clear = ws5.Range(f'E1:AI{end_row}')\n",
    "range_to_clear.Value = None\n",
    "\n",
    "ws5.Range(f'E1:AI{end_row}').Select()\n",
    "xl.Selection.PasteSpecial(Paste=12)\n",
    "\n",
    "# EMPE\n",
    "ws3.Activate()\n",
    "ws3.Range(f'B1:AI{ws3.Range(\"B\" + str(ws3.Rows.Count)).End(-4162).Row}').Copy()\n",
    "ws6.Activate()\n",
    "\n",
    "# Clear the contents \n",
    "end_row = ws6.Range(\"E\" + str(ws6.Rows.Count)).End(-4162).Row\n",
    "range_to_clear = ws6.Range(f'E1:AI{end_row}')\n",
    "range_to_clear.Value = None\n",
    "\n",
    "ws6.Range(f'E1:AI{end_row}').Select()\n",
    "xl.Selection.PasteSpecial(Paste=12)"
   ]
  },
  {
   "cell_type": "code",
   "execution_count": 39,
   "id": "5555a942",
   "metadata": {},
   "outputs": [],
   "source": [
    "wb1.Save()"
   ]
  },
  {
   "cell_type": "code",
   "execution_count": null,
   "id": "ce1bb1f5",
   "metadata": {},
   "outputs": [],
   "source": []
  },
  {
   "cell_type": "code",
   "execution_count": null,
   "id": "7f155455",
   "metadata": {},
   "outputs": [],
   "source": []
  }
 ],
 "metadata": {
  "kernelspec": {
   "display_name": "Python 3 (ipykernel)",
   "language": "python",
   "name": "python3"
  },
  "language_info": {
   "codemirror_mode": {
    "name": "ipython",
    "version": 3
   },
   "file_extension": ".py",
   "mimetype": "text/x-python",
   "name": "python",
   "nbconvert_exporter": "python",
   "pygments_lexer": "ipython3",
   "version": "3.11.7"
  }
 },
 "nbformat": 4,
 "nbformat_minor": 5
}
